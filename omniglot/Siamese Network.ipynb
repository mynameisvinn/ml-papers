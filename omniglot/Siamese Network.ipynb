{
 "cells": [
  {
   "cell_type": "markdown",
   "metadata": {},
   "source": [
    "* https://towardsdatascience.com/building-a-one-shot-learning-network-with-pytorch-d1c3a5fafa4a"
   ]
  },
  {
   "cell_type": "code",
   "execution_count": 1,
   "metadata": {
    "colab": {},
    "colab_type": "code",
    "id": "0UL7xKBso8Pm"
   },
   "outputs": [],
   "source": [
    "from os import walk\n",
    "import os\n",
    "\n",
    "import numpy as np\n",
    "import matplotlib.pyplot as plt\n",
    "import cv2\n",
    "import pandas as pd\n",
    "\n",
    "import torch\n",
    "import torchvision\n",
    "import torchvision.transforms as transforms\n",
    "from torch.utils.data import DataLoader, random_split\n",
    "import torch.optim as optim\n",
    "import torch.nn as nn\n",
    "\n",
    "from utils import OmniglotDataset, save_checkpoint, load_checkpoint\n",
    "from model import Net\n",
    "from train import train\n",
    "\n",
    "%matplotlib inline"
   ]
  },
  {
   "cell_type": "code",
   "execution_count": 2,
   "metadata": {
    "colab": {},
    "colab_type": "code",
    "id": "vY_FtijPo8Pt"
   },
   "outputs": [],
   "source": [
    "# setting the root directories and categories of the images\n",
    "root_dir = './images_background_small1/'\n",
    "categories = [[folder, os.listdir(root_dir + folder)] for folder in os.listdir(root_dir)  if not folder.startswith('.') ]"
   ]
  },
  {
   "cell_type": "code",
   "execution_count": 3,
   "metadata": {
    "colab": {},
    "colab_type": "code",
    "id": "fxY8faBco8P0"
   },
   "outputs": [],
   "source": [
    "# choose a training dataset size and further divide it into train and validation set 80:20\n",
    "n_samples = 20\n",
    "\n",
    "t = transforms.Compose([transforms.ToTensor()]) \n",
    "omniglotDataset = OmniglotDataset(categories, root_dir, setSize=n_samples, transform=t)\n",
    "\n",
    "# split into train/val\n",
    "train_size = int(n_samples * 0.8)\n",
    "val_size = n_samples - train_size\n",
    "train_set, val_set = random_split(omniglotDataset, [train_size, val_size])\n",
    "\n",
    "# construct dataloader\n",
    "train_loader = DataLoader(train_set, batch_size=4, num_workers=0)\n",
    "val_loader = DataLoader(val_set, batch_size=1, num_workers=0, shuffle=True)"
   ]
  },
  {
   "cell_type": "code",
   "execution_count": 4,
   "metadata": {
    "colab": {
     "base_uri": "https://localhost:8080/",
     "height": 568
    },
    "colab_type": "code",
    "id": "9ymZBJfVo8P5",
    "outputId": "785b1c17-7c8f-4ee2-b898-7f146b390833"
   },
   "outputs": [
    {
     "data": {
      "image/png": "[encoded data removed]",
      "text/plain": [
       "<Figure size 432x288 with 1 Axes>"
      ]
     },
     "metadata": {
      "needs_background": "light"
     },
     "output_type": "display_data"
    }
   ],
   "source": [
    "# showing an example of a \"similar\" pair:\n",
    "for img1, img2, label in train_loader:\n",
    "    if label[0] == 1:\n",
    "        plt.imshow(np.hstack([img1[0][0], img2[0][0]]))\n",
    "        break"
   ]
  },
  {
   "cell_type": "markdown",
   "metadata": {
    "colab": {},
    "colab_type": "code",
    "id": "MuoDdu_Ao8P3"
   },
   "source": [
    "# Part 2: Training"
   ]
  },
  {
   "cell_type": "code",
   "execution_count": 5,
   "metadata": {
    "colab": {
     "base_uri": "https://localhost:8080/",
     "height": 345
    },
    "colab_type": "code",
    "id": "YNc_GPvDo8QA",
    "outputId": "f95be039-00f1-4d66-dc4d-77e4ba315066"
   },
   "outputs": [],
   "source": [
    "device = torch.device('cuda:0' if torch.cuda.is_available() else 'cpu')\n",
    "\n",
    "siameseBaseLine = Net()\n",
    "siameseBaseLine = siameseBaseLine.to(device)"
   ]
  },
  {
   "cell_type": "code",
   "execution_count": 6,
   "metadata": {
    "colab": {
     "base_uri": "https://localhost:8080/",
     "height": 1000
    },
    "colab_type": "code",
    "id": "F3OAaokOo8QH",
    "outputId": "3d425e7b-6fc4-4b58-e448-c25e03b37441"
   },
   "outputs": [
    {
     "name": "stdout",
     "output_type": "stream",
     "text": [
      "Starting epoch 1\n",
      "Validation loss: 0.7026301622390747\n",
      "Starting epoch 2\n",
      "Validation loss: 0.6042484864592552\n",
      "Starting epoch 3\n",
      "Validation loss: 0.8134566247463226\n",
      "Starting epoch 4\n",
      "Validation loss: 1.1950969323515892\n",
      "Starting epoch 5\n",
      "Validation loss: 0.586386427283287\n",
      "Model saved to ==> siameseNet-batchnorm50.pt\n",
      "Finished Training\n"
     ]
    }
   ],
   "source": [
    "optimizer = optim.Adam(siameseBaseLine.parameters(), lr = 0.0006)\n",
    "num_epochs = 5\n",
    "criterion = nn.BCEWithLogitsLoss()\n",
    "save_path = 'siameseNet-batchnorm50.pt'\n",
    "train(\n",
    "    model=siameseBaseLine,\n",
    "    optimizer=optimizer,\n",
    "    train_loader=train_loader, \n",
    "    val_loader=val_loader,\n",
    "    num_epochs=num_epochs, \n",
    "    criterion=criterion, \n",
    "    out_path=save_path,\n",
    "    device=device\n",
    ")"
   ]
  },
  {
   "cell_type": "code",
   "execution_count": null,
   "metadata": {},
   "outputs": [],
   "source": []
  }
 ],
 "metadata": {
  "accelerator": "GPU",
  "colab": {
   "collapsed_sections": [],
   "machine_shape": "hm",
   "name": "siamese.ipynb",
   "provenance": []
  },
  "kernelspec": {
   "display_name": "Python 3",
   "language": "python",
   "name": "python3"
  },
  "language_info": {
   "codemirror_mode": {
    "name": "ipython",
    "version": 3
   },
   "file_extension": ".py",
   "mimetype": "text/x-python",
   "name": "python",
   "nbconvert_exporter": "python",
   "pygments_lexer": "ipython3",
   "version": "3.8.5"
  }
 },
 "nbformat": 4,
 "nbformat_minor": 4
}
