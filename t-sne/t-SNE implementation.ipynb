{
 "cells": [
  {
   "cell_type": "markdown",
   "metadata": {},
   "source": [
    "## TSNE\n",
    "T-SNE treats dimensionality reduction as an optimization problem. \n",
    "\n",
    "We know how to compute the pairwise distances between points in high dimensional space (these pairwise distances are computed once, since we do not nudge high dim points). We also know how to compute pairwise distances between points in low dimensional space. \n",
    "\n",
    "We can compare these two pairwise distances (using something like KL divergence). By computing gradients, we can nudge points in low dim space in order to minimize KL divergence between those pairwise distances.\n",
    "\n",
    "https://observablehq.com/@nstrayer/t-sne-explained-in-plain-javascript"
   ]
  },
  {
   "cell_type": "code",
   "execution_count": 79,
   "metadata": {},
   "outputs": [],
   "source": [
    "import numpy as np\n",
    "import scipy.stats\n",
    "import matplotlib.pyplot as plt\n",
    "plt.style.use('ggplot')\n",
    "%matplotlib inline\n",
    "\n",
    "def gaussian_prob(i, j, sigma):\n",
    "    \"\"\"Compute p(dist(j, i)) using N(0, sigma).\n",
    "    \"\"\"\n",
    "    dist = np.linalg.norm(np.array(i) - np.array(j))\n",
    "    unnormalized_prob = scipy.stats.norm(0, sigma).pdf(dist)\n",
    "    return unnormalized_prob\n",
    "\n",
    "\n",
    "def compute_asymmetric_probs(ls_pts):\n",
    "    \"\"\"Compute pairwise distances for list of points.\n",
    "    \"\"\"\n",
    "    var = 1\n",
    "    # each row represents p_ij where point i is the anchor point\n",
    "    asymmetric_matrix = []\n",
    "    \n",
    "    # find p_ij for all possible anchor points i\n",
    "    for ix in range(len(ls_pts)):\n",
    "        \n",
    "        # list of probabilities according to a perplexity target\n",
    "        ls_pij = find_best_normalized_probs_given_i(ix, ls_pts)\n",
    "        \n",
    "        # once we've found a list of probs_ij that satisfy a target perplexity, keep it\n",
    "        asymmetric_matrix.append(ls_pij)\n",
    "    return np.array(asymmetric_matrix)\n",
    "\n",
    "\n",
    "def find_best_normalized_probs_given_i(ix, ls_pts):\n",
    "    \"\"\"Return a list of normalized probabilities of seeing Js given anchor I.\n",
    "    \"\"\"\n",
    "    target_perplexity = 3\n",
    "    sigma = 0.1\n",
    "    ls_probs = _compute_normalized_probs_given_i(ix, ls_pts, sigma)\n",
    "    perplexity = _calculate_perplexity(ls_probs)\n",
    "    \n",
    "    # increment sigma until we reach desired level of perplexity\n",
    "    while perplexity < target_perplexity:\n",
    "        sigma += 0.1\n",
    "        ls_probs = _compute_normalized_probs_given_i(ix, ls_pts, sigma)\n",
    "        perplexity = _calculate_perplexity(ls_probs)\n",
    "    \n",
    "    # return the list of probabilities of seeing all points J given point I, subject to desired perplexity\n",
    "    return ls_probs\n",
    "\n",
    "\n",
    "def _compute_normalized_probs_given_i(ix, ls_pts, sigma):\n",
    "    \"\"\"Return a list of normalized probabilities of seeing Js given anchor I.\n",
    "    \"\"\"\n",
    "    # compute probabilities of J's given anchor I\n",
    "    ls_normalized_probs = []\n",
    "    for jx in range(len(ls_pts)):\n",
    "        if jx == ix:  \n",
    "            ls_normalized_probs.append(0)  # ignore probability of seeing point I given anchor point I\n",
    "        else:\n",
    "            # probability of seeing J given anchor I\n",
    "            prob = _compute_prob_ij(ix, jx, sigma, ls_pts)  \n",
    "            ls_normalized_probs.append(prob)\n",
    "    return ls_normalized_probs\n",
    "\n",
    "\n",
    "def _compute_prob_ij(ix, jx, sigma, ls_pts):\n",
    "    \"\"\"Compute the normalized probability of seeing J given I.\n",
    "    \n",
    "    We normalized by dividing the unnormalized p(J|I) by the sum of all \n",
    "    p(J|I).\n",
    "    \"\"\"\n",
    "    pt_i = ls_pts[ix]  # anchor point I\n",
    "    pt_j = ls_pts[jx]  # target point J\n",
    "    numerator = gaussian_prob(pt_i, pt_j, sigma)\n",
    "    \n",
    "    # calculate sum of probabilites so we can normalize\n",
    "    denominator = 0\n",
    "    for kx in range(len(ls_pts)):\n",
    "        if kx != ix:\n",
    "            pt_k = ls_pts[kx]\n",
    "            denominator += gaussian_prob(pt_i, pt_k, sigma)\n",
    "    return np.round(numerator / denominator, 2)\n",
    "\n",
    "\n",
    "def calc_fake_probs(i_idx, low_d_points):\n",
    "    \"\"\"Compute probabilities of seeing Js given anchor I in low dimensional space.\n",
    "    \"\"\"\n",
    "    fake_probs = []\n",
    "    \n",
    "    for j_idx in range(len(low_d_points)):\n",
    "        if j_idx == i_idx:\n",
    "            fake_probs.append(0)\n",
    "        else:\n",
    "            i = low_d_points[i_idx]\n",
    "            j = low_d_points[j_idx]\n",
    "            \n",
    "            # first, compute numerator between i and j\n",
    "            numerator = 1 / (1 + (np.linalg.norm(i - j) ** 2))\n",
    "\n",
    "            # then, compute denominator, which is the sum of probabilities\n",
    "            denominator = 0\n",
    "            for k_idx in range(len(low_d_points)):\n",
    "                if k_idx != i_idx:\n",
    "                    k = low_d_points[k_idx]\n",
    "                    d = 1 / (1 + (np.linalg.norm(i - k) ** 2))\n",
    "                    denominator += d\n",
    "            \n",
    "            fake_prob = numerator / denominator  # prob(j | i)\n",
    "            fake_probs.append(fake_prob)\n",
    "    return fake_probs\n",
    "\n",
    "\n",
    "def a2s(am):\n",
    "    \"\"\"Convert an asymmetric matrix am to a symmetric one.\n",
    "\n",
    "    We do this with prob(ij) = np.average(prob(i|j), prob(j|i)).\n",
    "    \"\"\"\n",
    "    n_points = len(am[0])\n",
    "    \n",
    "    # preallocate an empty matrix\n",
    "    sm = np.zeros(shape=(n_points, n_points))\n",
    "    \n",
    "    # update each element\n",
    "    for i in range(n_points):\n",
    "        for j in range(n_points):\n",
    "            sm[i][j] = np.average((am[i][j], am[j][i]))\n",
    "    return sm\n",
    "\n",
    "\n",
    "def _calculate_perplexity(ls_probs):\n",
    "    \"\"\"Compute perplexity for a list of points J given anchor point I.\n",
    "    \n",
    "    By increasing perplexity, we widen the probability curve so it is more\n",
    "    likely to see J given anchor I.\n",
    "    \"\"\"\n",
    "    # remove probability of seeing point I given an anchor point I\n",
    "    ls_probs = [p for p in ls_probs if p!= 0]\n",
    "    \n",
    "    # calculate entropy\n",
    "    entropy = np.sum([-p*(np.log(p)) for p in ls_probs])\n",
    "    \n",
    "    # calculate perplexity\n",
    "    perplexity = 2 ** entropy\n",
    "    return perplexity"
   ]
  },
  {
   "cell_type": "markdown",
   "metadata": {},
   "source": [
    "## Step 1\n",
    "Generate points in high dimensional space."
   ]
  },
  {
   "cell_type": "code",
   "execution_count": 74,
   "metadata": {},
   "outputs": [
    {
     "data": {
      "text/plain": [
       "array([[-1.7, -2.1, -3.1],\n",
       "       [-0.5, -1. , -1.3],\n",
       "       [-3.1, -2.2, -1. ],\n",
       "       [ 2.2,  2.1,  1.6],\n",
       "       [ 1.3,  1.1,  1.1],\n",
       "       [ 0.5,  1.1,  1.3]])"
      ]
     },
     "execution_count": 74,
     "metadata": {},
     "output_type": "execute_result"
    }
   ],
   "source": [
    "# generate real points\n",
    "high_dim_pts = [[-1.7, -2.1, -3.1], \n",
    "                [-0.5, -1.0, -1.3], \n",
    "                [-3.1, -2.2, -1.0], \n",
    "                [2.2, 2.1, 1.6],\n",
    "                [1.3, 1.1, 1.1], \n",
    "                [0.5, 1.1, 1.3]]\n",
    "n_points = len(high_dim_pts)\n",
    "np.array(high_dim_pts)"
   ]
  },
  {
   "cell_type": "markdown",
   "metadata": {},
   "source": [
    "## Step 2\n",
    "Compute pairwise distances between each point in high dimensional space. \n",
    "\n",
    "The trick is to compute distance D between points I and J as `p(D | N(0, sigma)`. That is, what is the probability of seeing a distance D using a normal distribution?\n",
    "\n",
    "If want to increase the probability of seeing Js given I, we can widen the distribution by increasing targeted perplexity."
   ]
  },
  {
   "cell_type": "code",
   "execution_count": 75,
   "metadata": {},
   "outputs": [
    {
     "data": {
      "text/plain": [
       "array([[0.   , 0.255, 0.255, 0.145, 0.16 , 0.16 ],\n",
       "       [0.255, 0.   , 0.24 , 0.165, 0.2  , 0.205],\n",
       "       [0.255, 0.24 , 0.   , 0.145, 0.16 , 0.175],\n",
       "       [0.145, 0.165, 0.145, 0.   , 0.255, 0.245],\n",
       "       [0.16 , 0.2  , 0.16 , 0.255, 0.   , 0.25 ],\n",
       "       [0.16 , 0.205, 0.175, 0.245, 0.25 , 0.   ]])"
      ]
     },
     "execution_count": 75,
     "metadata": {},
     "output_type": "execute_result"
    }
   ],
   "source": [
    "# generate pairwise distances for points in high dim space\n",
    "am1 = compute_asymmetric_probs(high_dim_pts)\n",
    "sm1 = a2s(am1)\n",
    "sm1"
   ]
  },
  {
   "cell_type": "markdown",
   "metadata": {},
   "source": [
    "## Step 3\n",
    "Randomly generate fake points in low dimensional space."
   ]
  },
  {
   "cell_type": "code",
   "execution_count": 76,
   "metadata": {},
   "outputs": [
    {
     "data": {
      "text/plain": [
       "array([[ 0.29424012, -0.66937256],\n",
       "       [ 0.74468261, -0.70407362],\n",
       "       [ 0.98420972,  0.70779546],\n",
       "       [-0.39558945,  0.05011148],\n",
       "       [-0.48878932,  0.33486924],\n",
       "       [-0.0562762 ,  0.02653853]])"
      ]
     },
     "execution_count": 76,
     "metadata": {},
     "output_type": "execute_result"
    }
   ],
   "source": [
    "# generate fake points - these points will be updated via gradient descent\n",
    "low_dim = 2  # desired dimensionality of mapping\n",
    "low_dim_pts = np.random.uniform(low=-1.0, high=1.0, size=(n_points, low_dim))\n",
    "low_dim_pts"
   ]
  },
  {
   "cell_type": "markdown",
   "metadata": {},
   "source": [
    "## Step 4: Gradient Descent\n",
    "We compute the gradient for the distance between the two sets of pairwise distances (ie the distance between the high dim pairwise matrix and low dim pairwise matrix), and use it to nudge points in low dimensional space.\n",
    "\n",
    "This [KD derivative is specific to T-SNEs](https://stats.stackexchange.com/questions/276607/deriving-the-gradient-of-the-loss-in-sne), since T-SNE computes probability distributions in a specific way. That means you cannot use this KL derivative to compare two other matrices."
   ]
  },
  {
   "cell_type": "code",
   "execution_count": 77,
   "metadata": {},
   "outputs": [],
   "source": [
    "n_epochs = 1000\n",
    "step_size = 0.01\n",
    "\n",
    "for epoch in range(n_epochs):\n",
    "    \n",
    "    # nudge each point in low dim space by treating it as the anchor point\n",
    "    for i in range(n_points):\n",
    "\n",
    "        # a fake prob is the probability of seeing point J given anchor point I in low dimensional space\n",
    "        ls_fake_probs = calc_fake_probs(i, low_dim_pts)  \n",
    "        \n",
    "        # compute gradient for all possible j's\n",
    "        acc_grad = 0\n",
    "        for j in range(n_points):\n",
    "            if j != i:\n",
    "                t1 = sm1[i][j] - ls_fake_probs[j]\n",
    "                t2 = low_dim_pts[i] - low_dim_pts[j]\n",
    "                dist = np.linalg.norm(t2)\n",
    "                t3 = 1 / (1 + (dist ** 2))\n",
    "                grad = t1 * t2 * t3\n",
    "                acc_grad += grad\n",
    "\n",
    "        # update anchor point i with gradient descent\n",
    "        low_dim_pts[i] = low_dim_pts[i] - (step_size * acc_grad)"
   ]
  },
  {
   "cell_type": "code",
   "execution_count": 80,
   "metadata": {},
   "outputs": [
    {
     "data": {
      "text/plain": [
       "<matplotlib.collections.PathCollection at 0x7f9cd9e4db80>"
      ]
     },
     "execution_count": 80,
     "metadata": {},
     "output_type": "execute_result"
    },
    {
     "data": {
      "image/png": "[encoded data removed]",
      "text/plain": [
       "<Figure size 432x288 with 1 Axes>"
      ]
     },
     "metadata": {
      "needs_background": "light"
     },
     "output_type": "display_data"
    }
   ],
   "source": [
    "plt.scatter(low_dim_pts[:,0], low_dim_pts[:,1], c=[0,0,0,1,1,1])"
   ]
  },
  {
   "cell_type": "code",
   "execution_count": null,
   "metadata": {},
   "outputs": [],
   "source": []
  }
 ],
 "metadata": {
  "kernelspec": {
   "display_name": "Python 3",
   "language": "python",
   "name": "python3"
  },
  "language_info": {
   "codemirror_mode": {
    "name": "ipython",
    "version": 3
   },
   "file_extension": ".py",
   "mimetype": "text/x-python",
   "name": "python",
   "nbconvert_exporter": "python",
   "pygments_lexer": "ipython3",
   "version": "3.8.5"
  }
 },
 "nbformat": 4,
 "nbformat_minor": 2
}
